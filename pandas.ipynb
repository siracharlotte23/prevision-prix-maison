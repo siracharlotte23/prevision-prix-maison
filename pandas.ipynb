{
 "cells": [
  {
   "cell_type": "code",
   "execution_count": 6,
   "id": "f8a45b4e",
   "metadata": {},
   "outputs": [],
   "source": [
    "import pandas as pd\n",
    "import numpy as np\n",
    "import matplotlib.pyplot as plt"
   ]
  },
  {
   "cell_type": "code",
   "execution_count": 7,
   "id": "d3610b2f",
   "metadata": {},
   "outputs": [],
   "source": [
    "df = pd.read_csv(\"Cours Pandas/input/rechauffement.csv\")"
"#Phase 2 du programme python"
   ]
  },
  {
   "cell_type": "code",
   "execution_count": 8,
   "id": "52f43d9a",
   "metadata": {},
   "outputs": [
    {
     "data": {
      "text/html": [
       "<div>\n",
       "<style scoped>\n",
       "    .dataframe tbody tr th:only-of-type {\n",
       "        vertical-align: middle;\n",
       "    }\n",
       "\n",
       "    .dataframe tbody tr th {\n",
       "        vertical-align: top;\n",
       "    }\n",
       "\n",
       "    .dataframe thead th {\n",
       "        text-align: right;\n",
       "    }\n",
       "</style>\n",
       "<table border=\"1\" class=\"dataframe\">\n",
       "  <thead>\n",
       "    <tr style=\"text-align: right;\">\n",
       "      <th></th>\n",
       "      <th>Unnamed: 0</th>\n",
       "      <th>INSEE commune</th>\n",
       "      <th>Commune</th>\n",
       "      <th>Agriculture</th>\n",
       "      <th>Autres transports</th>\n",
       "      <th>Autres transports international</th>\n",
       "      <th>CO2 biomasse hors-total</th>\n",
       "      <th>Déchets</th>\n",
       "      <th>Energie</th>\n",
       "      <th>Industrie hors-énergie</th>\n",
       "      <th>Résidentiel</th>\n",
       "      <th>Routier</th>\n",
       "      <th>Tertiaire</th>\n",
       "    </tr>\n",
       "  </thead>\n",
       "  <tbody>\n",
       "    <tr>\n",
       "      <th>0</th>\n",
       "      <td>0</td>\n",
       "      <td>01001</td>\n",
       "      <td>L'ABERGEMENT-CLEMENCIAT</td>\n",
       "      <td>3711.425991</td>\n",
       "      <td>NaN</td>\n",
       "      <td>NaN</td>\n",
       "      <td>432.751835</td>\n",
       "      <td>101.430476</td>\n",
       "      <td>2.354558</td>\n",
       "      <td>6.911213</td>\n",
       "      <td>309.358195</td>\n",
       "      <td>793.156501</td>\n",
       "      <td>367.036172</td>\n",
       "    </tr>\n",
       "    <tr>\n",
       "      <th>1</th>\n",
       "      <td>1</td>\n",
       "      <td>01002</td>\n",
       "      <td>L'ABERGEMENT-DE-VAREY</td>\n",
       "      <td>475.330205</td>\n",
       "      <td>NaN</td>\n",
       "      <td>NaN</td>\n",
       "      <td>140.741660</td>\n",
       "      <td>140.675439</td>\n",
       "      <td>2.354558</td>\n",
       "      <td>6.911213</td>\n",
       "      <td>104.866444</td>\n",
       "      <td>348.997893</td>\n",
       "      <td>112.934207</td>\n",
       "    </tr>\n",
       "    <tr>\n",
       "      <th>2</th>\n",
       "      <td>2</td>\n",
       "      <td>01004</td>\n",
       "      <td>AMBERIEU-EN-BUGEY</td>\n",
       "      <td>499.043526</td>\n",
       "      <td>212.577909</td>\n",
       "      <td>NaN</td>\n",
       "      <td>10313.446520</td>\n",
       "      <td>5314.314445</td>\n",
       "      <td>998.332482</td>\n",
       "      <td>2930.354461</td>\n",
       "      <td>16616.822530</td>\n",
       "      <td>15642.420310</td>\n",
       "      <td>10732.376930</td>\n",
       "    </tr>\n",
       "    <tr>\n",
       "      <th>3</th>\n",
       "      <td>3</td>\n",
       "      <td>01005</td>\n",
       "      <td>AMBERIEUX-EN-DOMBES</td>\n",
       "      <td>1859.160954</td>\n",
       "      <td>NaN</td>\n",
       "      <td>NaN</td>\n",
       "      <td>1144.429311</td>\n",
       "      <td>216.217508</td>\n",
       "      <td>94.182310</td>\n",
       "      <td>276.448534</td>\n",
       "      <td>663.683146</td>\n",
       "      <td>1756.341319</td>\n",
       "      <td>782.404357</td>\n",
       "    </tr>\n",
       "    <tr>\n",
       "      <th>4</th>\n",
       "      <td>4</td>\n",
       "      <td>01006</td>\n",
       "      <td>AMBLEON</td>\n",
       "      <td>448.966808</td>\n",
       "      <td>NaN</td>\n",
       "      <td>NaN</td>\n",
       "      <td>77.033834</td>\n",
       "      <td>48.401549</td>\n",
       "      <td>NaN</td>\n",
       "      <td>NaN</td>\n",
       "      <td>43.714019</td>\n",
       "      <td>398.786800</td>\n",
       "      <td>51.681756</td>\n",
       "    </tr>\n",
       "    <tr>\n",
       "      <th>...</th>\n",
       "      <td>...</td>\n",
       "      <td>...</td>\n",
       "      <td>...</td>\n",
       "      <td>...</td>\n",
       "      <td>...</td>\n",
       "      <td>...</td>\n",
       "      <td>...</td>\n",
       "      <td>...</td>\n",
       "      <td>...</td>\n",
       "      <td>...</td>\n",
       "      <td>...</td>\n",
       "      <td>...</td>\n",
       "      <td>...</td>\n",
       "    </tr>\n",
       "    <tr>\n",
       "      <th>35793</th>\n",
       "      <td>35793</td>\n",
       "      <td>95676</td>\n",
       "      <td>VILLERS-EN-ARTHIES</td>\n",
       "      <td>1628.065094</td>\n",
       "      <td>NaN</td>\n",
       "      <td>NaN</td>\n",
       "      <td>165.045396</td>\n",
       "      <td>65.063617</td>\n",
       "      <td>11.772789</td>\n",
       "      <td>34.556067</td>\n",
       "      <td>176.098160</td>\n",
       "      <td>309.627908</td>\n",
       "      <td>235.439109</td>\n",
       "    </tr>\n",
       "    <tr>\n",
       "      <th>35794</th>\n",
       "      <td>35794</td>\n",
       "      <td>95678</td>\n",
       "      <td>VILLIERS-ADAM</td>\n",
       "      <td>698.630772</td>\n",
       "      <td>NaN</td>\n",
       "      <td>NaN</td>\n",
       "      <td>1331.126598</td>\n",
       "      <td>111.480954</td>\n",
       "      <td>2.354558</td>\n",
       "      <td>6.911213</td>\n",
       "      <td>1395.529811</td>\n",
       "      <td>18759.370070</td>\n",
       "      <td>403.404815</td>\n",
       "    </tr>\n",
       "    <tr>\n",
       "      <th>35795</th>\n",
       "      <td>35795</td>\n",
       "      <td>95680</td>\n",
       "      <td>VILLIERS-LE-BEL</td>\n",
       "      <td>107.564967</td>\n",
       "      <td>NaN</td>\n",
       "      <td>NaN</td>\n",
       "      <td>8367.174532</td>\n",
       "      <td>225.622903</td>\n",
       "      <td>534.484607</td>\n",
       "      <td>1568.845431</td>\n",
       "      <td>22613.830250</td>\n",
       "      <td>12217.122400</td>\n",
       "      <td>13849.512000</td>\n",
       "    </tr>\n",
       "    <tr>\n",
       "      <th>35796</th>\n",
       "      <td>35796</td>\n",
       "      <td>95682</td>\n",
       "      <td>VILLIERS-LE-SEC</td>\n",
       "      <td>1090.890170</td>\n",
       "      <td>NaN</td>\n",
       "      <td>NaN</td>\n",
       "      <td>326.748418</td>\n",
       "      <td>108.969749</td>\n",
       "      <td>2.354558</td>\n",
       "      <td>6.911213</td>\n",
       "      <td>67.235487</td>\n",
       "      <td>4663.232127</td>\n",
       "      <td>85.657725</td>\n",
       "    </tr>\n",
       "    <tr>\n",
       "      <th>35797</th>\n",
       "      <td>35797</td>\n",
       "      <td>95690</td>\n",
       "      <td>WY-DIT-JOLI-VILLAGE</td>\n",
       "      <td>1495.103542</td>\n",
       "      <td>NaN</td>\n",
       "      <td>NaN</td>\n",
       "      <td>125.236417</td>\n",
       "      <td>97.728612</td>\n",
       "      <td>4.709115</td>\n",
       "      <td>13.822427</td>\n",
       "      <td>117.450851</td>\n",
       "      <td>504.400972</td>\n",
       "      <td>147.867245</td>\n",
       "    </tr>\n",
       "  </tbody>\n",
       "</table>\n",
       "<p>35798 rows × 13 columns</p>\n",
       "</div>"
      ],
      "text/plain": [
       "       Unnamed: 0 INSEE commune                  Commune  Agriculture  \\\n",
       "0               0         01001  L'ABERGEMENT-CLEMENCIAT  3711.425991   \n",
       "1               1         01002    L'ABERGEMENT-DE-VAREY   475.330205   \n",
       "2               2         01004        AMBERIEU-EN-BUGEY   499.043526   \n",
       "3               3         01005      AMBERIEUX-EN-DOMBES  1859.160954   \n",
       "4               4         01006                  AMBLEON   448.966808   \n",
       "...           ...           ...                      ...          ...   \n",
       "35793       35793         95676       VILLERS-EN-ARTHIES  1628.065094   \n",
       "35794       35794         95678            VILLIERS-ADAM   698.630772   \n",
       "35795       35795         95680          VILLIERS-LE-BEL   107.564967   \n",
       "35796       35796         95682          VILLIERS-LE-SEC  1090.890170   \n",
       "35797       35797         95690      WY-DIT-JOLI-VILLAGE  1495.103542   \n",
       "\n",
       "       Autres transports  Autres transports international  \\\n",
       "0                    NaN                              NaN   \n",
       "1                    NaN                              NaN   \n",
       "2             212.577909                              NaN   \n",
       "3                    NaN                              NaN   \n",
       "4                    NaN                              NaN   \n",
       "...                  ...                              ...   \n",
       "35793                NaN                              NaN   \n",
       "35794                NaN                              NaN   \n",
       "35795                NaN                              NaN   \n",
       "35796                NaN                              NaN   \n",
       "35797                NaN                              NaN   \n",
       "\n",
       "       CO2 biomasse hors-total      Déchets     Energie  \\\n",
       "0                   432.751835   101.430476    2.354558   \n",
       "1                   140.741660   140.675439    2.354558   \n",
       "2                 10313.446520  5314.314445  998.332482   \n",
       "3                  1144.429311   216.217508   94.182310   \n",
       "4                    77.033834    48.401549         NaN   \n",
       "...                        ...          ...         ...   \n",
       "35793               165.045396    65.063617   11.772789   \n",
       "35794              1331.126598   111.480954    2.354558   \n",
       "35795              8367.174532   225.622903  534.484607   \n",
       "35796               326.748418   108.969749    2.354558   \n",
       "35797               125.236417    97.728612    4.709115   \n",
       "\n",
       "       Industrie hors-énergie   Résidentiel       Routier     Tertiaire  \n",
       "0                    6.911213    309.358195    793.156501    367.036172  \n",
       "1                    6.911213    104.866444    348.997893    112.934207  \n",
       "2                 2930.354461  16616.822530  15642.420310  10732.376930  \n",
       "3                  276.448534    663.683146   1756.341319    782.404357  \n",
       "4                         NaN     43.714019    398.786800     51.681756  \n",
       "...                       ...           ...           ...           ...  \n",
       "35793               34.556067    176.098160    309.627908    235.439109  \n",
       "35794                6.911213   1395.529811  18759.370070    403.404815  \n",
       "35795             1568.845431  22613.830250  12217.122400  13849.512000  \n",
       "35796                6.911213     67.235487   4663.232127     85.657725  \n",
       "35797               13.822427    117.450851    504.400972    147.867245  \n",
       "\n",
       "[35798 rows x 13 columns]"
      ]
     },
     "execution_count": 8,
     "metadata": {},
     "output_type": "execute_result"
    }
   ],
   "source": [
    "df"
   ]
  },
  {
   "cell_type": "code",
   "execution_count": 12,
   "id": "936d5e14",
   "metadata": {},
   "outputs": [
    {
     "data": {
      "text/plain": [
       "0        L'ABERGEMENT-CLEMENCIAT\n",
       "1          L'ABERGEMENT-DE-VAREY\n",
       "2              AMBERIEU-EN-BUGEY\n",
       "3            AMBERIEUX-EN-DOMBES\n",
       "4                        AMBLEON\n",
       "                  ...           \n",
       "35793         VILLERS-EN-ARTHIES\n",
       "35794              VILLIERS-ADAM\n",
       "35795            VILLIERS-LE-BEL\n",
       "35796            VILLIERS-LE-SEC\n",
       "35797        WY-DIT-JOLI-VILLAGE\n",
       "Name: Commune, Length: 35798, dtype: object"
      ]
     },
     "execution_count": 12,
     "metadata": {},
     "output_type": "execute_result"
    }
   ],
   "source": [
    "df[\"Commune\"]"
   ]
  },
  {
   "cell_type": "code",
   "execution_count": 13,
   "id": "1be81509",
   "metadata": {},
   "outputs": [
    {
     "data": {
      "text/plain": [
       "33338"
      ]
     },
     "execution_count": 13,
     "metadata": {},
     "output_type": "execute_result"
    }
   ],
   "source": [
    "df[\"Commune\"].nunique()"
   ]
  },
  {
   "cell_type": "code",
   "execution_count": 14,
   "id": "5d43f064",
   "metadata": {},
   "outputs": [
    {
     "data": {
      "text/plain": [
       "array([\"L'ABERGEMENT-CLEMENCIAT\", \"L'ABERGEMENT-DE-VAREY\",\n",
       "       'AMBERIEU-EN-BUGEY', ..., 'VILLIERS-ADAM', 'VILLIERS-LE-BEL',\n",
       "       'WY-DIT-JOLI-VILLAGE'], dtype=object)"
      ]
     },
     "execution_count": 14,
     "metadata": {},
     "output_type": "execute_result"
    }
   ],
   "source": [
    "df[\"Commune\"].unique()"
   ]
  },
  {
   "cell_type": "code",
   "execution_count": 15,
   "id": "8f61a163",
   "metadata": {},
   "outputs": [
    {
     "data": {
      "text/html": [
       "<div>\n",
       "<style scoped>\n",
       "    .dataframe tbody tr th:only-of-type {\n",
       "        vertical-align: middle;\n",
       "    }\n",
       "\n",
       "    .dataframe tbody tr th {\n",
       "        vertical-align: top;\n",
       "    }\n",
       "\n",
       "    .dataframe thead th {\n",
       "        text-align: right;\n",
       "    }\n",
       "</style>\n",
       "<table border=\"1\" class=\"dataframe\">\n",
       "  <thead>\n",
       "    <tr style=\"text-align: right;\">\n",
       "      <th></th>\n",
       "      <th>Unnamed: 0</th>\n",
       "      <th>Agriculture</th>\n",
       "      <th>Autres transports</th>\n",
       "      <th>Autres transports international</th>\n",
       "      <th>CO2 biomasse hors-total</th>\n",
       "      <th>Déchets</th>\n",
       "      <th>Energie</th>\n",
       "      <th>Industrie hors-énergie</th>\n",
       "      <th>Résidentiel</th>\n",
       "      <th>Routier</th>\n",
       "      <th>Tertiaire</th>\n",
       "    </tr>\n",
       "  </thead>\n",
       "  <tbody>\n",
       "    <tr>\n",
       "      <th>count</th>\n",
       "      <td>35798.000000</td>\n",
       "      <td>35736.000000</td>\n",
       "      <td>9979.000000</td>\n",
       "      <td>2.891000e+03</td>\n",
       "      <td>35798.000000</td>\n",
       "      <td>35792.000000</td>\n",
       "      <td>3.449000e+04</td>\n",
       "      <td>3.449000e+04</td>\n",
       "      <td>35792.000000</td>\n",
       "      <td>35778.000000</td>\n",
       "      <td>35798.000000</td>\n",
       "    </tr>\n",
       "    <tr>\n",
       "      <th>mean</th>\n",
       "      <td>17898.500000</td>\n",
       "      <td>2459.975760</td>\n",
       "      <td>654.919940</td>\n",
       "      <td>7.692345e+03</td>\n",
       "      <td>1774.381550</td>\n",
       "      <td>410.806329</td>\n",
       "      <td>6.625698e+02</td>\n",
       "      <td>2.423128e+03</td>\n",
       "      <td>1783.677872</td>\n",
       "      <td>3535.501245</td>\n",
       "      <td>1105.165915</td>\n",
       "    </tr>\n",
       "    <tr>\n",
       "      <th>std</th>\n",
       "      <td>10334.136805</td>\n",
       "      <td>2926.957701</td>\n",
       "      <td>9232.816833</td>\n",
       "      <td>1.137643e+05</td>\n",
       "      <td>7871.341922</td>\n",
       "      <td>4122.472608</td>\n",
       "      <td>2.645571e+04</td>\n",
       "      <td>5.670374e+04</td>\n",
       "      <td>8915.902378</td>\n",
       "      <td>9663.156628</td>\n",
       "      <td>5164.182507</td>\n",
       "    </tr>\n",
       "    <tr>\n",
       "      <th>min</th>\n",
       "      <td>0.000000</td>\n",
       "      <td>0.003432</td>\n",
       "      <td>0.000204</td>\n",
       "      <td>3.972950e-04</td>\n",
       "      <td>3.758088</td>\n",
       "      <td>0.132243</td>\n",
       "      <td>2.354558e+00</td>\n",
       "      <td>1.052998e+00</td>\n",
       "      <td>1.027266</td>\n",
       "      <td>0.555092</td>\n",
       "      <td>0.000000</td>\n",
       "    </tr>\n",
       "    <tr>\n",
       "      <th>25%</th>\n",
       "      <td>8949.250000</td>\n",
       "      <td>797.682631</td>\n",
       "      <td>52.560412</td>\n",
       "      <td>1.005097e+01</td>\n",
       "      <td>197.951108</td>\n",
       "      <td>25.655166</td>\n",
       "      <td>2.354558e+00</td>\n",
       "      <td>6.911213e+00</td>\n",
       "      <td>96.052911</td>\n",
       "      <td>419.700460</td>\n",
       "      <td>94.749885</td>\n",
       "    </tr>\n",
       "    <tr>\n",
       "      <th>50%</th>\n",
       "      <td>17898.500000</td>\n",
       "      <td>1559.381286</td>\n",
       "      <td>106.795928</td>\n",
       "      <td>1.992434e+01</td>\n",
       "      <td>424.849988</td>\n",
       "      <td>54.748654</td>\n",
       "      <td>4.709115e+00</td>\n",
       "      <td>1.382243e+01</td>\n",
       "      <td>227.091193</td>\n",
       "      <td>1070.895593</td>\n",
       "      <td>216.297718</td>\n",
       "    </tr>\n",
       "    <tr>\n",
       "      <th>75%</th>\n",
       "      <td>26847.750000</td>\n",
       "      <td>3007.883903</td>\n",
       "      <td>237.341501</td>\n",
       "      <td>3.298311e+01</td>\n",
       "      <td>1094.749826</td>\n",
       "      <td>110.820941</td>\n",
       "      <td>5.180027e+01</td>\n",
       "      <td>1.520467e+02</td>\n",
       "      <td>749.469293</td>\n",
       "      <td>3098.612157</td>\n",
       "      <td>576.155869</td>\n",
       "    </tr>\n",
       "    <tr>\n",
       "      <th>max</th>\n",
       "      <td>35797.000000</td>\n",
       "      <td>98949.317760</td>\n",
       "      <td>513140.971700</td>\n",
       "      <td>3.303394e+06</td>\n",
       "      <td>576394.181200</td>\n",
       "      <td>275500.374400</td>\n",
       "      <td>2.535858e+06</td>\n",
       "      <td>6.765119e+06</td>\n",
       "      <td>410675.902000</td>\n",
       "      <td>586054.672800</td>\n",
       "      <td>288175.400100</td>\n",
       "    </tr>\n",
       "  </tbody>\n",
       "</table>\n",
       "</div>"
      ],
      "text/plain": [
       "         Unnamed: 0   Agriculture  Autres transports  \\\n",
       "count  35798.000000  35736.000000        9979.000000   \n",
       "mean   17898.500000   2459.975760         654.919940   \n",
       "std    10334.136805   2926.957701        9232.816833   \n",
       "min        0.000000      0.003432           0.000204   \n",
       "25%     8949.250000    797.682631          52.560412   \n",
       "50%    17898.500000   1559.381286         106.795928   \n",
       "75%    26847.750000   3007.883903         237.341501   \n",
       "max    35797.000000  98949.317760      513140.971700   \n",
       "\n",
       "       Autres transports international  CO2 biomasse hors-total  \\\n",
       "count                     2.891000e+03             35798.000000   \n",
       "mean                      7.692345e+03              1774.381550   \n",
       "std                       1.137643e+05              7871.341922   \n",
       "min                       3.972950e-04                 3.758088   \n",
       "25%                       1.005097e+01               197.951108   \n",
       "50%                       1.992434e+01               424.849988   \n",
       "75%                       3.298311e+01              1094.749826   \n",
       "max                       3.303394e+06            576394.181200   \n",
       "\n",
       "             Déchets       Energie  Industrie hors-énergie    Résidentiel  \\\n",
       "count   35792.000000  3.449000e+04            3.449000e+04   35792.000000   \n",
       "mean      410.806329  6.625698e+02            2.423128e+03    1783.677872   \n",
       "std      4122.472608  2.645571e+04            5.670374e+04    8915.902378   \n",
       "min         0.132243  2.354558e+00            1.052998e+00       1.027266   \n",
       "25%        25.655166  2.354558e+00            6.911213e+00      96.052911   \n",
       "50%        54.748654  4.709115e+00            1.382243e+01     227.091193   \n",
       "75%       110.820941  5.180027e+01            1.520467e+02     749.469293   \n",
       "max    275500.374400  2.535858e+06            6.765119e+06  410675.902000   \n",
       "\n",
       "             Routier      Tertiaire  \n",
       "count   35778.000000   35798.000000  \n",
       "mean     3535.501245    1105.165915  \n",
       "std      9663.156628    5164.182507  \n",
       "min         0.555092       0.000000  \n",
       "25%       419.700460      94.749885  \n",
       "50%      1070.895593     216.297718  \n",
       "75%      3098.612157     576.155869  \n",
       "max    586054.672800  288175.400100  "
      ]
     },
     "execution_count": 15,
     "metadata": {},
     "output_type": "execute_result"
    }
   ],
   "source": [
    "df.describe()"
   ]
  },
  {
   "cell_type": "code",
   "execution_count": 16,
   "id": "05bff3a3",
   "metadata": {},
   "outputs": [
    {
     "data": {
      "text/plain": [
       "2459.975759687285"
      ]
     },
     "execution_count": 16,
     "metadata": {},
     "output_type": "execute_result"
    }
   ],
   "source": [
    "df['Agriculture'].mean()"
   ]
  },
  {
   "cell_type": "code",
   "execution_count": 17,
   "id": "36c52738",
   "metadata": {},
   "outputs": [
    {
     "data": {
      "text/plain": [
       "98949.31776"
      ]
     },
     "execution_count": 17,
     "metadata": {},
     "output_type": "execute_result"
    }
   ],
   "source": [
    "df['Agriculture'].max()"
   ]
  },
  {
   "cell_type": "code",
   "execution_count": 18,
   "id": "a32568de",
   "metadata": {},
   "outputs": [
    {
     "data": {
      "text/plain": [
       "0.003431569"
      ]
     },
     "execution_count": 18,
     "metadata": {},
     "output_type": "execute_result"
    }
   ],
   "source": [
    "df['Agriculture'].min()"
   ]
  },
  {
   "cell_type": "code",
   "execution_count": 19,
   "id": "2c31e4f9",
   "metadata": {},
   "outputs": [
    {
     "data": {
      "text/plain": [
       "35736"
      ]
     },
     "execution_count": 19,
     "metadata": {},
     "output_type": "execute_result"
    }
   ],
   "source": [
    "df['Agriculture'].count()"
   ]
  },
  {
   "cell_type": "code",
   "execution_count": 20,
   "id": "7b27ff7b",
   "metadata": {},
   "outputs": [
    {
     "data": {
      "text/plain": [
       "<bound method DataFrame.info of        Unnamed: 0 INSEE commune                  Commune  Agriculture  \\\n",
       "0               0         01001  L'ABERGEMENT-CLEMENCIAT  3711.425991   \n",
       "1               1         01002    L'ABERGEMENT-DE-VAREY   475.330205   \n",
       "2               2         01004        AMBERIEU-EN-BUGEY   499.043526   \n",
       "3               3         01005      AMBERIEUX-EN-DOMBES  1859.160954   \n",
       "4               4         01006                  AMBLEON   448.966808   \n",
       "...           ...           ...                      ...          ...   \n",
       "35793       35793         95676       VILLERS-EN-ARTHIES  1628.065094   \n",
       "35794       35794         95678            VILLIERS-ADAM   698.630772   \n",
       "35795       35795         95680          VILLIERS-LE-BEL   107.564967   \n",
       "35796       35796         95682          VILLIERS-LE-SEC  1090.890170   \n",
       "35797       35797         95690      WY-DIT-JOLI-VILLAGE  1495.103542   \n",
       "\n",
       "       Autres transports  Autres transports international  \\\n",
       "0                    NaN                              NaN   \n",
       "1                    NaN                              NaN   \n",
       "2             212.577909                              NaN   \n",
       "3                    NaN                              NaN   \n",
       "4                    NaN                              NaN   \n",
       "...                  ...                              ...   \n",
       "35793                NaN                              NaN   \n",
       "35794                NaN                              NaN   \n",
       "35795                NaN                              NaN   \n",
       "35796                NaN                              NaN   \n",
       "35797                NaN                              NaN   \n",
       "\n",
       "       CO2 biomasse hors-total      Déchets     Energie  \\\n",
       "0                   432.751835   101.430476    2.354558   \n",
       "1                   140.741660   140.675439    2.354558   \n",
       "2                 10313.446520  5314.314445  998.332482   \n",
       "3                  1144.429311   216.217508   94.182310   \n",
       "4                    77.033834    48.401549         NaN   \n",
       "...                        ...          ...         ...   \n",
       "35793               165.045396    65.063617   11.772789   \n",
       "35794              1331.126598   111.480954    2.354558   \n",
       "35795              8367.174532   225.622903  534.484607   \n",
       "35796               326.748418   108.969749    2.354558   \n",
       "35797               125.236417    97.728612    4.709115   \n",
       "\n",
       "       Industrie hors-énergie   Résidentiel       Routier     Tertiaire  \n",
       "0                    6.911213    309.358195    793.156501    367.036172  \n",
       "1                    6.911213    104.866444    348.997893    112.934207  \n",
       "2                 2930.354461  16616.822530  15642.420310  10732.376930  \n",
       "3                  276.448534    663.683146   1756.341319    782.404357  \n",
       "4                         NaN     43.714019    398.786800     51.681756  \n",
       "...                       ...           ...           ...           ...  \n",
       "35793               34.556067    176.098160    309.627908    235.439109  \n",
       "35794                6.911213   1395.529811  18759.370070    403.404815  \n",
       "35795             1568.845431  22613.830250  12217.122400  13849.512000  \n",
       "35796                6.911213     67.235487   4663.232127     85.657725  \n",
       "35797               13.822427    117.450851    504.400972    147.867245  \n",
       "\n",
       "[35798 rows x 13 columns]>"
      ]
     },
     "execution_count": 20,
     "metadata": {},
     "output_type": "execute_result"
    }
   ],
   "source": [
    "df.info"
   ]
  },
  {
   "cell_type": "code",
   "execution_count": 21,
   "id": "ab9a6168",
   "metadata": {},
   "outputs": [
    {
     "data": {
      "text/plain": [
       "<AxesSubplot:>"
      ]
     },
     "execution_count": 21,
     "metadata": {},
     "output_type": "execute_result"
    },
    {
     "data": {
      "image/png": "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\n",
      "text/plain": [
       "<Figure size 640x480 with 1 Axes>"
      ]
     },
     "metadata": {},
     "output_type": "display_data"
    }
   ],
   "source": [
    "df['Déchets'].plot()"
   ]
  },
  {
   "cell_type": "code",
   "execution_count": 22,
   "id": "172658dd",
   "metadata": {},
   "outputs": [
    {
     "data": {
      "text/plain": [
       "<AxesSubplot:>"
      ]
     },
     "execution_count": 22,
     "metadata": {},
     "output_type": "execute_result"
    },
    {
     "data": {
      "image/png": "iVBORw0KGgoAAAANSUhEUgAAAjoAAAGdCAYAAAAbudkLAAAAOXRFWHRTb2Z0d2FyZQBNYXRwbG90bGliIHZlcnNpb24zLjUuMiwgaHR0cHM6Ly9tYXRwbG90bGliLm9yZy8qNh9FAAAACXBIWXMAAA9hAAAPYQGoP6dpAAA280lEQVR4nO3dfVCU973//xfisiKFDUhh2YocT2s4WkzmHGwBbev9oiOS1E5NS2dHZzxoj1GPI0xOTSYTbKvmm2hMB088HseJiZhDpmNse6Il4KSaMtyoJExEPY6dmqgtiFVcvMuywev3R4frlxXv0CXAh+djhhn3ut577ed6uU5euZYLIizLsgQAAGCgIX29AAAAgN5C0QEAAMai6AAAAGNRdAAAgLEoOgAAwFgUHQAAYCyKDgAAMBZFBwAAGGtoXy+gL928eVN//etfFRsbq4iIiL5eDgAAuA+WZenKlSvyeDwaMuTu12wGddH561//qtTU1L5eBgAAeABnz57VyJEj7zozqItObGyspL8HFRcXF9ZjB4NBVVZWyuv1yuFwhPXYgwUZhgc5hgc5hgc5hsdgz7G9vV2pqan2f8fvZlAXna6Pq+Li4nql6AwfPlxxcXGD8k0YDmQYHuQYHuQYHuQYHuT4d/fzbSd8MzIAADAWRQcAABiLogMAAIxF0QEAAMai6AAAAGNRdAAAgLEoOgAAwFgUHQAAYCyKDgAAMBZFBwAAGIuiAwAAjEXRAQAAxqLoAAAAY1F0AACAsYb29QJMl1HyngKd9/418v3FJy/O6eslAAAQNlzRAQAAxqLoAAAAY/Wo6GzZskWPPfaY4uLiFBcXp5ycHP3+97+39y9cuFAREREhX9nZ2SHHCAQCWr58uRITExUTE6P8/HydO3cuZKatrU0+n08ul0sul0s+n0+XL18OmTlz5ozmzp2rmJgYJSYmasWKFero6Ojh6QMAAJP1qOiMHDlSL774oo4cOaIjR45o2rRpeuKJJ3Ts2DF7ZtasWWpubra/9u3bF3KMlStXas+ePSovL1d1dbWuXr2qvLw8dXZ22jMFBQVqbGxURUWFKioq1NjYKJ/PZ+/v7OzUnDlzdO3aNVVXV6u8vFy7d+9WUVHRg+YAAAAM1KNvRp47d27I47Vr12rLli2qq6vTN7/5TUmS0+mU2+2+7fP9fr+2b9+unTt3asaMGZKksrIypaamav/+/crNzdWJEydUUVGhuro6ZWVlSZK2bdumnJwcnTx5Uunp6aqsrNTx48d19uxZeTweSdLGjRu1cOFCrV27VnFxcT1LAQAAGOmB77rq7OzUr3/9a127dk05OTn29gMHDigpKUmPPPKIJk+erLVr1yopKUmS1NDQoGAwKK/Xa897PB5lZGSopqZGubm5qq2tlcvlskuOJGVnZ8vlcqmmpkbp6emqra1VRkaGXXIkKTc3V4FAQA0NDZo6dept1xwIBBQIBOzH7e3tkqRgMKhgMPigUdxW1/GcQ6ywHre3hTuHh9G1lv60poGIHMODHMODHMNjsOfYk/PucdE5evSocnJy9Nlnn+krX/mK9uzZo3HjxkmSZs+erR/+8IdKS0vT6dOn9fzzz2vatGlqaGiQ0+lUS0uLoqKiFB8fH3LM5ORktbS0SJJaWlrsYvRFSUlJITPJyckh++Pj4xUVFWXP3M769eu1Zs2abtsrKys1fPjwngVxn34x4WavHLe33PpRY39QVVXV10swAjmGBzmGBzmGx2DN8fr16/c92+Oik56ersbGRl2+fFm7d+/WggULdPDgQY0bN05PPfWUPZeRkaEJEyYoLS1Ne/fu1bx58+54TMuyFBHx//+smS/++WFmbrV69WqtWrXKftze3q7U1FR5vd6wf9wVDAZVVVWl548MUeDmwPk5Ok0luX29BFtXhjNnzpTD4ejr5QxY5Bge5Bge5Bgegz3Hrk9k7kePi05UVJS+8Y1vSJImTJigw4cP61e/+pW2bt3abTYlJUVpaWk6deqUJMntdqujo0NtbW0hV3VaW1s1ceJEe+b8+fPdjnXhwgX7Ko7b7VZ9fX3I/ra2NgWDwW5Xer7I6XTK6XR22+5wOHrtjRK4GTGgfmBgf/wH05t/P4MJOYYHOYYHOYbHYM2xJ+f80D9Hx7KskO97+aKLFy/q7NmzSklJkSRlZmbK4XCEXGprbm5WU1OTXXRycnLk9/t16NAhe6a+vl5+vz9kpqmpSc3NzfZMZWWlnE6nMjMzH/aUAACAIXp0RefZZ5/V7NmzlZqaqitXrqi8vFwHDhxQRUWFrl69qpKSEv3gBz9QSkqKPvnkEz377LNKTEzU97//fUmSy+XSokWLVFRUpBEjRighIUHFxcUaP368fRfW2LFjNWvWLBUWFtpXiRYvXqy8vDylp6dLkrxer8aNGyefz6eXX35Zly5dUnFxsQoLC7njCgAA2HpUdM6fPy+fz6fm5ma5XC499thjqqio0MyZM3Xjxg0dPXpUb775pi5fvqyUlBRNnTpVb7/9tmJjY+1jbNq0SUOHDtX8+fN148YNTZ8+XTt27FBkZKQ9s2vXLq1YscK+Oys/P1+bN2+290dGRmrv3r1aunSpJk2apOjoaBUUFGjDhg0PmwcAADBIj4rO9u3b77gvOjpa77333j2PMWzYMJWWlqq0tPSOMwkJCSorK7vrcUaNGqV33333nq8HAAAGL37XFQAAMBZFBwAAGIuiAwAAjEXRAQAAxqLoAAAAY1F0AACAsSg6AADAWBQdAABgLIoOAAAwFkUHAAAYi6IDAACMRdEBAADGougAAABjUXQAAICxKDoAAMBYFB0AAGAsig4AADAWRQcAABiLogMAAIxF0QEAAMai6AAAAGNRdAAAgLEoOgAAwFgUHQAAYCyKDgAAMBZFBwAAGIuiAwAAjEXRAQAAxqLoAAAAY1F0AACAsSg6AADAWBQdAABgLIoOAAAwFkUHAAAYi6IDAACMRdEBAADGougAAABjUXQAAICxelR0tmzZoscee0xxcXGKi4tTTk6Ofv/739v7LctSSUmJPB6PoqOjNWXKFB07dizkGIFAQMuXL1diYqJiYmKUn5+vc+fOhcy0tbXJ5/PJ5XLJ5XLJ5/Pp8uXLITNnzpzR3LlzFRMTo8TERK1YsUIdHR09PH0AAGCyHhWdkSNH6sUXX9SRI0d05MgRTZs2TU888YRdZl566SW98sor2rx5sw4fPiy3262ZM2fqypUr9jFWrlypPXv2qLy8XNXV1bp69ary8vLU2dlpzxQUFKixsVEVFRWqqKhQY2OjfD6fvb+zs1Nz5szRtWvXVF1drfLycu3evVtFRUUPmwcAADDI0J4Mz507N+Tx2rVrtWXLFtXV1WncuHF69dVX9dxzz2nevHmSpDfeeEPJycl66623tGTJEvn9fm3fvl07d+7UjBkzJEllZWVKTU3V/v37lZubqxMnTqiiokJ1dXXKysqSJG3btk05OTk6efKk0tPTVVlZqePHj+vs2bPyeDySpI0bN2rhwoVau3at4uLiHjoYAAAw8PWo6HxRZ2enfv3rX+vatWvKycnR6dOn1dLSIq/Xa884nU5NnjxZNTU1WrJkiRoaGhQMBkNmPB6PMjIyVFNTo9zcXNXW1srlctklR5Kys7PlcrlUU1Oj9PR01dbWKiMjwy45kpSbm6tAIKCGhgZNnTr1tmsOBAIKBAL24/b2dklSMBhUMBh80Chuq+t4ziFWWI/b28Kdw8PoWkt/WtNARI7hQY7hQY7hMdhz7Ml597joHD16VDk5Ofrss8/0la98RXv27NG4ceNUU1MjSUpOTg6ZT05O1qeffipJamlpUVRUlOLj47vNtLS02DNJSUndXjcpKSlk5tbXiY+PV1RUlD1zO+vXr9eaNWu6ba+srNTw4cPvdeoP5BcTbvbKcXvLvn37+noJ3VRVVfX1EoxAjuFBjuFBjuExWHO8fv36fc/2uOikp6ersbFRly9f1u7du7VgwQIdPHjQ3h8REREyb1lWt223unXmdvMPMnOr1atXa9WqVfbj9vZ2paamyuv1hv3jrmAwqKqqKj1/ZIgCN+9+/v1JU0luXy/B1pXhzJkz5XA4+no5AxY5hgc5hgc5hsdgz7HrE5n70eOiExUVpW984xuSpAkTJujw4cP61a9+pf/4j/+Q9PerLSkpKfZ8a2urffXF7Xaro6NDbW1tIVd1WltbNXHiRHvm/Pnz3V73woULIcepr68P2d/W1qZgMNjtSs8XOZ1OOZ3ObtsdDkevvVECNyMU6Bw4Rac//oPpzb+fwYQcw4Mcw4Mcw2Ow5tiTc37on6NjWZYCgYBGjx4tt9sdchmto6NDBw8etEtMZmamHA5HyExzc7OamprsmZycHPn9fh06dMieqa+vl9/vD5lpampSc3OzPVNZWSmn06nMzMyHPSUAAGCIHl3RefbZZzV79mylpqbqypUrKi8v14EDB1RRUaGIiAitXLlS69at05gxYzRmzBitW7dOw4cPV0FBgSTJ5XJp0aJFKioq0ogRI5SQkKDi4mKNHz/evgtr7NixmjVrlgoLC7V161ZJ0uLFi5WXl6f09HRJktfr1bhx4+Tz+fTyyy/r0qVLKi4uVmFhIXdcAQAAW4+Kzvnz5+Xz+dTc3CyXy6XHHntMFRUVmjlzpiTpmWee0Y0bN7R06VK1tbUpKytLlZWVio2NtY+xadMmDR06VPPnz9eNGzc0ffp07dixQ5GRkfbMrl27tGLFCvvurPz8fG3evNneHxkZqb1792rp0qWaNGmSoqOjVVBQoA0bNjxUGAAAwCw9Kjrbt2+/6/6IiAiVlJSopKTkjjPDhg1TaWmpSktL7ziTkJCgsrKyu77WqFGj9O677951BgAADG78risAAGAsig4AADAWRQcAABiLogMAAIxF0QEAAMai6AAAAGNRdAAAgLEoOgAAwFgUHQAAYCyKDgAAMBZFBwAAGIuiAwAAjEXRAQAAxqLoAAAAY1F0AACAsSg6AADAWBQdAABgLIoOAAAwFkUHAAAYi6IDAACMRdEBAADGougAAABjUXQAAICxKDoAAMBYFB0AAGAsig4AADAWRQcAABiLogMAAIxF0QEAAMai6AAAAGNRdAAAgLEoOgAAwFgUHQAAYCyKDgAAMBZFBwAAGIuiAwAAjEXRAQAAxqLoAAAAY1F0AACAsXpUdNavX69vfetbio2NVVJSkp588kmdPHkyZGbhwoWKiIgI+crOzg6ZCQQCWr58uRITExUTE6P8/HydO3cuZKatrU0+n08ul0sul0s+n0+XL18OmTlz5ozmzp2rmJgYJSYmasWKFero6OjJKQEAAIP1qOgcPHhQTz/9tOrq6lRVVaXPP/9cXq9X165dC5mbNWuWmpub7a99+/aF7F+5cqX27Nmj8vJyVVdX6+rVq8rLy1NnZ6c9U1BQoMbGRlVUVKiiokKNjY3y+Xz2/s7OTs2ZM0fXrl1TdXW1ysvLtXv3bhUVFT1IDgAAwEBDezJcUVER8vj1119XUlKSGhoa9L3vfc/e7nQ65Xa7b3sMv9+v7du3a+fOnZoxY4YkqaysTKmpqdq/f79yc3N14sQJVVRUqK6uTllZWZKkbdu2KScnRydPnlR6eroqKyt1/PhxnT17Vh6PR5K0ceNGLVy4UGvXrlVcXFxPTg0AABioR0XnVn6/X5KUkJAQsv3AgQNKSkrSI488osmTJ2vt2rVKSkqSJDU0NCgYDMrr9drzHo9HGRkZqqmpUW5urmpra+VyueySI0nZ2dlyuVyqqalRenq6amtrlZGRYZccScrNzVUgEFBDQ4OmTp3abb2BQECBQMB+3N7eLkkKBoMKBoMPE0U3XcdzDrHCetzeFu4cHkbXWvrTmgYicgwPcgwPcgyPwZ5jT877gYuOZVlatWqVvvOd7ygjI8PePnv2bP3whz9UWlqaTp8+reeff17Tpk1TQ0ODnE6nWlpaFBUVpfj4+JDjJScnq6WlRZLU0tJiF6MvSkpKCplJTk4O2R8fH6+oqCh75lbr16/XmjVrum2vrKzU8OHDexbAffrFhJu9ctzecuvHjP1BVVVVXy/BCOQYHuQYHuQYHoM1x+vXr9/37AMXnWXLlunjjz9WdXV1yPannnrK/nNGRoYmTJigtLQ07d27V/Pmzbvj8SzLUkREhP34i39+mJkvWr16tVatWmU/bm9vV2pqqrxeb9g/6goGg6qqqtLzR4YocPP26+mPmkpy+3oJtq4MZ86cKYfD0dfLGbDIMTzIMTzIMTwGe45dn8jcjwcqOsuXL9fvfvc7ffDBBxo5cuRdZ1NSUpSWlqZTp05Jktxutzo6OtTW1hZyVae1tVUTJ060Z86fP9/tWBcuXLCv4rjdbtXX14fsb2trUzAY7Halp4vT6ZTT6ey23eFw9NobJXAzQoHOgVN0+uM/mN78+xlMyDE8yDE8yDE8BmuOPTnnHt11ZVmWli1bpnfeeUfvv/++Ro8efc/nXLx4UWfPnlVKSookKTMzUw6HI+RyW3Nzs5qamuyik5OTI7/fr0OHDtkz9fX18vv9ITNNTU1qbm62ZyorK+V0OpWZmdmT0wIAAIbq0RWdp59+Wm+99ZZ++9vfKjY21v5eGJfLpejoaF29elUlJSX6wQ9+oJSUFH3yySd69tlnlZiYqO9///v27KJFi1RUVKQRI0YoISFBxcXFGj9+vH0X1tixYzVr1iwVFhZq69atkqTFixcrLy9P6enpkiSv16tx48bJ5/Pp5Zdf1qVLl1RcXKzCwkLuuAIAAJJ6eEVny5Yt8vv9mjJlilJSUuyvt99+W5IUGRmpo0eP6oknntCjjz6qBQsW6NFHH1Vtba1iY2Pt42zatElPPvmk5s+fr0mTJmn48OH63//9X0VGRtozu3bt0vjx4+X1euX1evXYY49p586d9v7IyEjt3btXw4YN06RJkzR//nw9+eST2rBhw8NmAgAADNGjKzqWdfdbpaOjo/Xee+/d8zjDhg1TaWmpSktL7ziTkJCgsrKyux5n1KhRevfdd+/5egAAYHDid10BAABjUXQAAICxKDoAAMBYFB0AAGAsig4AADAWRQcAABiLogMAAIxF0QEAAMai6AAAAGNRdAAAgLEoOgAAwFgUHQAAYCyKDgAAMBZFBwAAGIuiAwAAjEXRAQAAxqLoAAAAY1F0AACAsSg6AADAWBQdAABgLIoOAAAwFkUHAAAYi6IDAACMRdEBAADGougAAABjUXQAAICxKDoAAMBYFB0AAGAsig4AADAWRQcAABiLogMAAIxF0QEAAMai6AAAAGNRdAAAgLEoOgAAwFgUHQAAYCyKDgAAMBZFBwAAGKtHRWf9+vX61re+pdjYWCUlJenJJ5/UyZMnQ2Ysy1JJSYk8Ho+io6M1ZcoUHTt2LGQmEAho+fLlSkxMVExMjPLz83Xu3LmQmba2Nvl8PrlcLrlcLvl8Pl2+fDlk5syZM5o7d65iYmKUmJioFStWqKOjoyenBAAADNajonPw4EE9/fTTqqurU1VVlT7//HN5vV5du3bNnnnppZf0yiuvaPPmzTp8+LDcbrdmzpypK1eu2DMrV67Unj17VF5erurqal29elV5eXnq7Oy0ZwoKCtTY2KiKigpVVFSosbFRPp/P3t/Z2ak5c+bo2rVrqq6uVnl5uXbv3q2ioqKHyQMAABhkaE+GKyoqQh6//vrrSkpKUkNDg773ve/Jsiy9+uqreu655zRv3jxJ0htvvKHk5GS99dZbWrJkifx+v7Zv366dO3dqxowZkqSysjKlpqZq//79ys3N1YkTJ1RRUaG6ujplZWVJkrZt26acnBydPHlS6enpqqys1PHjx3X27Fl5PB5J0saNG7Vw4UKtXbtWcXFxDx0OAAAY2HpUdG7l9/slSQkJCZKk06dPq6WlRV6v155xOp2aPHmyampqtGTJEjU0NCgYDIbMeDweZWRkqKamRrm5uaqtrZXL5bJLjiRlZ2fL5XKppqZG6enpqq2tVUZGhl1yJCk3N1eBQEANDQ2aOnVqt/UGAgEFAgH7cXt7uyQpGAwqGAw+TBTddB3POcQK63F7W7hzeBhda+lPaxqIyDE8yDE8yDE8BnuOPTnvBy46lmVp1apV+s53vqOMjAxJUktLiyQpOTk5ZDY5OVmffvqpPRMVFaX4+PhuM13Pb2lpUVJSUrfXTEpKCpm59XXi4+MVFRVlz9xq/fr1WrNmTbftlZWVGj58+D3P+UH8YsLNXjlub9m3b19fL6Gbqqqqvl6CEcgxPMgxPMgxPAZrjtevX7/v2QcuOsuWLdPHH3+s6urqbvsiIiJCHluW1W3brW6dud38g8x80erVq7Vq1Sr7cXt7u1JTU+X1esP+UVcwGFRVVZWePzJEgZt3P/f+pKkkt6+XYOvKcObMmXI4HH29nAGLHMODHMODHMNjsOfY9YnM/XigorN8+XL97ne/0wcffKCRI0fa291ut6S/X21JSUmxt7e2ttpXX9xutzo6OtTW1hZyVae1tVUTJ060Z86fP9/tdS9cuBBynPr6+pD9bW1tCgaD3a70dHE6nXI6nd22OxyOXnujBG5GKNA5cIpOf/wH05t/P4MJOYYHOYYHOYbHYM2xJ+fco7uuLMvSsmXL9M477+j999/X6NGjQ/aPHj1abrc75FJaR0eHDh48aJeYzMxMORyOkJnm5mY1NTXZMzk5OfL7/Tp06JA9U19fL7/fHzLT1NSk5uZme6ayslJOp1OZmZk9OS0AAGCoHl3Refrpp/XWW2/pt7/9rWJjY+3vhXG5XIqOjlZERIRWrlypdevWacyYMRozZozWrVun4cOHq6CgwJ5dtGiRioqKNGLECCUkJKi4uFjjx4+378IaO3asZs2apcLCQm3dulWStHjxYuXl5Sk9PV2S5PV6NW7cOPl8Pr388su6dOmSiouLVVhYyB1XAABAUg+LzpYtWyRJU6ZMCdn++uuva+HChZKkZ555Rjdu3NDSpUvV1tamrKwsVVZWKjY21p7ftGmThg4dqvnz5+vGjRuaPn26duzYocjISHtm165dWrFihX13Vn5+vjZv3mzvj4yM1N69e7V06VJNmjRJ0dHRKigo0IYNG3oUAAAAMFePio5l3ftW6YiICJWUlKikpOSOM8OGDVNpaalKS0vvOJOQkKCysrK7vtaoUaP07rvv3nNNAABgcOJ3XQEAAGNRdAAAgLEoOgAAwFgUHQAAYCyKDgAAMBZFBwAAGIuiAwAAjEXRAQAAxqLoAAAAY1F0AACAsSg6AADAWBQdAABgLIoOAAAwFkUHAAAYi6IDAACMRdEBAADGougAAABjUXQAAICxKDoAAMBYFB0AAGAsig4AADAWRQcAABiLogMAAIxF0QEAAMai6AAAAGNRdAAAgLEoOgAAwFgUHQAAYCyKDgAAMBZFBwAAGIuiAwAAjEXRAQAAxqLoAAAAY1F0AACAsSg6AADAWBQdAABgLIoOAAAwFkUHAAAYq8dF54MPPtDcuXPl8XgUERGh3/zmNyH7Fy5cqIiIiJCv7OzskJlAIKDly5crMTFRMTExys/P17lz50Jm2tra5PP55HK55HK55PP5dPny5ZCZM2fOaO7cuYqJiVFiYqJWrFihjo6Onp4SAAAwVI+LzrVr1/T4449r8+bNd5yZNWuWmpub7a99+/aF7F+5cqX27Nmj8vJyVVdX6+rVq8rLy1NnZ6c9U1BQoMbGRlVUVKiiokKNjY3y+Xz2/s7OTs2ZM0fXrl1TdXW1ysvLtXv3bhUVFfX0lAAAgKGG9vQJs2fP1uzZs+8643Q65Xa7b7vP7/dr+/bt2rlzp2bMmCFJKisrU2pqqvbv36/c3FydOHFCFRUVqqurU1ZWliRp27ZtysnJ0cmTJ5Wenq7KykodP35cZ8+elcfjkSRt3LhRCxcu1Nq1axUXF9fTUwMAAIbpcdG5HwcOHFBSUpIeeeQRTZ48WWvXrlVSUpIkqaGhQcFgUF6v1573eDzKyMhQTU2NcnNzVVtbK5fLZZccScrOzpbL5VJNTY3S09NVW1urjIwMu+RIUm5urgKBgBoaGjR16tRu6woEAgoEAvbj9vZ2SVIwGFQwGAxrBl3Hcw6xwnrc3hbuHB5G11r605oGInIMD3IMD3IMj8GeY0/OO+xFZ/bs2frhD3+otLQ0nT59Ws8//7ymTZumhoYGOZ1OtbS0KCoqSvHx8SHPS05OVktLiySppaXFLkZflJSUFDKTnJwcsj8+Pl5RUVH2zK3Wr1+vNWvWdNteWVmp4cOHP9D53ssvJtzsleP2lls/ZuwPqqqq+noJRiDH8CDH8CDH8BisOV6/fv2+Z8NedJ566in7zxkZGZowYYLS0tK0d+9ezZs3747PsyxLERER9uMv/vlhZr5o9erVWrVqlf24vb1dqamp8nq9Yf+oKxgMqqqqSs8fGaLAzduvpz9qKsnt6yXYujKcOXOmHA5HXy9nwCLH8CDH8CDH8BjsOXZ9InM/euWjqy9KSUlRWlqaTp06JUlyu93q6OhQW1tbyFWd1tZWTZw40Z45f/58t2NduHDBvorjdrtVX18fsr+trU3BYLDblZ4uTqdTTqez23aHw9Frb5TAzQgFOgdO0emP/2B68+9nMCHH8CDH8CDH8BisOfbknHv95+hcvHhRZ8+eVUpKiiQpMzNTDocj5HJbc3Ozmpqa7KKTk5Mjv9+vQ4cO2TP19fXy+/0hM01NTWpubrZnKisr5XQ6lZmZ2dunBQAABoAeX9G5evWq/vSnP9mPT58+rcbGRiUkJCghIUElJSX6wQ9+oJSUFH3yySd69tlnlZiYqO9///uSJJfLpUWLFqmoqEgjRoxQQkKCiouLNX78ePsurLFjx2rWrFkqLCzU1q1bJUmLFy9WXl6e0tPTJUler1fjxo2Tz+fTyy+/rEuXLqm4uFiFhYXccQUAACQ9QNE5cuRIyB1NXd/zsmDBAm3ZskVHjx7Vm2++qcuXLyslJUVTp07V22+/rdjYWPs5mzZt0tChQzV//nzduHFD06dP144dOxQZGWnP7Nq1SytWrLDvzsrPzw/52T2RkZHau3evli5dqkmTJik6OloFBQXasGFDz1MAAABG6nHRmTJliizrzrdMv/fee/c8xrBhw1RaWqrS0tI7ziQkJKisrOyuxxk1apTefffde74eAAAYnPhdVwAAwFgUHQAAYCyKDgAAMBZFBwAAGIuiAwAAjEXRAQAAxqLoAAAAY1F0AACAsSg6AADAWBQdAABgLIoOAAAwFkUHAAAYi6IDAACMRdEBAADGougAAABjUXQAAICxKDoAAMBYFB0AAGAsig4AADAWRQcAABiLogMAAIxF0QEAAMai6AAAAGNRdAAAgLEoOgAAwFgUHQAAYCyKDgAAMBZFBwAAGIuiAwAAjEXRAQAAxqLoAAAAY1F0AACAsSg6AADAWBQdAABgLIoOAAAwFkUHAAAYi6IDAACMRdEBAADG6nHR+eCDDzR37lx5PB5FREToN7/5Tch+y7JUUlIij8ej6OhoTZkyRceOHQuZCQQCWr58uRITExUTE6P8/HydO3cuZKatrU0+n08ul0sul0s+n0+XL18OmTlz5ozmzp2rmJgYJSYmasWKFero6OjpKQEAAEP1uOhcu3ZNjz/+uDZv3nzb/S+99JJeeeUVbd68WYcPH5bb7dbMmTN15coVe2blypXas2ePysvLVV1dratXryovL0+dnZ32TEFBgRobG1VRUaGKigo1NjbK5/PZ+zs7OzVnzhxdu3ZN1dXVKi8v1+7du1VUVNTTUwIAAIYa2tMnzJ49W7Nnz77tPsuy9Oqrr+q5557TvHnzJElvvPGGkpOT9dZbb2nJkiXy+/3avn27du7cqRkzZkiSysrKlJqaqv379ys3N1cnTpxQRUWF6urqlJWVJUnatm2bcnJydPLkSaWnp6uyslLHjx/X2bNn5fF4JEkbN27UwoULtXbtWsXFxT1QIAAAwBxh/R6d06dPq6WlRV6v197mdDo1efJk1dTUSJIaGhoUDAZDZjwejzIyMuyZ2tpauVwuu+RIUnZ2tlwuV8hMRkaGXXIkKTc3V4FAQA0NDeE8LQAAMED1+IrO3bS0tEiSkpOTQ7YnJyfr008/tWeioqIUHx/fbabr+S0tLUpKSup2/KSkpJCZW18nPj5eUVFR9sytAoGAAoGA/bi9vV2SFAwGFQwG7/s870fX8ZxDrLAet7eFO4eH0bWW/rSmgYgcw4Mcw4Mcw2Ow59iT8w5r0ekSERER8tiyrG7bbnXrzO3mH2Tmi9avX681a9Z0215ZWanhw4ffdX0P6hcTbvbKcXvLvn37+noJ3VRVVfX1EoxAjuFBjuFBjuExWHO8fv36fc+Gtei43W5Jf7/akpKSYm9vbW21r7643W51dHSora0t5KpOa2urJk6caM+cP3++2/EvXLgQcpz6+vqQ/W1tbQoGg92u9HRZvXq1Vq1aZT9ub29XamqqvF5v2L+nJxgMqqqqSs8fGaLAzbuXvP6kqSS3r5dg68pw5syZcjgcfb2cAYscw4Mcw4Mcw2Ow59j1icz9CGvRGT16tNxut6qqqvTP//zPkqSOjg4dPHhQ/+///T9JUmZmphwOh6qqqjR//nxJUnNzs5qamvTSSy9JknJycuT3+3Xo0CF9+9vfliTV19fL7/fbZSgnJ0dr165Vc3OzXaoqKyvldDqVmZl52/U5nU45nc5u2x0OR6+9UQI3IxToHDhFpz/+g+nNv5/BhBzDgxzDgxzDY7Dm2JNz7nHRuXr1qv70pz/Zj0+fPq3GxkYlJCRo1KhRWrlypdatW6cxY8ZozJgxWrdunYYPH66CggJJksvl0qJFi1RUVKQRI0YoISFBxcXFGj9+vH0X1tixYzVr1iwVFhZq69atkqTFixcrLy9P6enpkiSv16tx48bJ5/Pp5Zdf1qVLl1RcXKzCwkLuuAIAAJIeoOgcOXJEU6dOtR93fRS0YMEC7dixQ88884xu3LihpUuXqq2tTVlZWaqsrFRsbKz9nE2bNmno0KGaP3++bty4oenTp2vHjh2KjIy0Z3bt2qUVK1bYd2fl5+eH/OyeyMhI7d27V0uXLtWkSZMUHR2tgoICbdiwoecpAAAAI/W46EyZMkWWdec7iSIiIlRSUqKSkpI7zgwbNkylpaUqLS2940xCQoLKysruupZRo0bp3XffveeaAQDA4MTvugIAAMai6AAAAGNRdAAAgLEoOgAAwFgUHQAAYCyKDgAAMBZFBwAAGIuiAwAAjEXRAQAAxqLoAAAAY1F0AACAsSg6AADAWBQdAABgLIoOAAAwFkUHAAAYi6IDAACMRdEBAADGougAAABjUXQAAICxKDoAAMBYFB0AAGAsig4AADAWRQcAABiLogMAAIxF0QEAAMai6AAAAGNRdAAAgLEoOgAAwFgUHQAAYCyKDgAAMBZFBwAAGIuiAwAAjEXRAQAAxqLoAAAAY1F0AACAsSg6AADAWBQdAABgLIoOAAAwFkUHAAAYK+xFp6SkRBERESFfbrfb3m9ZlkpKSuTxeBQdHa0pU6bo2LFjIccIBAJavny5EhMTFRMTo/z8fJ07dy5kpq2tTT6fTy6XSy6XSz6fT5cvXw736QAAgAGsV67ofPOb31Rzc7P9dfToUXvfSy+9pFdeeUWbN2/W4cOH5Xa7NXPmTF25csWeWblypfbs2aPy8nJVV1fr6tWrysvLU2dnpz1TUFCgxsZGVVRUqKKiQo2NjfL5fL1xOgAAYIAa2isHHTo05CpOF8uy9Oqrr+q5557TvHnzJElvvPGGkpOT9dZbb2nJkiXy+/3avn27du7cqRkzZkiSysrKlJqaqv379ys3N1cnTpxQRUWF6urqlJWVJUnatm2bcnJydPLkSaWnp/fGaQEAgAGmV4rOqVOn5PF45HQ6lZWVpXXr1ukf//Efdfr0abW0tMjr9dqzTqdTkydPVk1NjZYsWaKGhgYFg8GQGY/Ho4yMDNXU1Cg3N1e1tbVyuVx2yZGk7OxsuVwu1dTU3LHoBAIBBQIB+3F7e7skKRgMKhgMhjWDruM5h1hhPW5vC3cOD6NrLf1pTQMROYYHOYYHOYbHYM+xJ+cd9qKTlZWlN998U48++qjOnz+vX/7yl5o4caKOHTumlpYWSVJycnLIc5KTk/Xpp59KklpaWhQVFaX4+PhuM13Pb2lpUVJSUrfXTkpKsmduZ/369VqzZk237ZWVlRo+fHjPTvQ+/WLCzV45bm/Zt29fXy+hm6qqqr5eghHIMTzIMTzIMTwGa47Xr1+/79mwF53Zs2fbfx4/frxycnL09a9/XW+88Yays7MlSRERESHPsSyr27Zb3Tpzu/l7HWf16tVatWqV/bi9vV2pqanyer2Ki4u7+4n1UDAYVFVVlZ4/MkSBm3c/t/6kqSS3r5dg68pw5syZcjgcfb2cAYscw4Mcw4Mcw2Ow59j1icz96JWPrr4oJiZG48eP16lTp/Tkk09K+vsVmZSUFHumtbXVvsrjdrvV0dGhtra2kKs6ra2tmjhxoj1z/vz5bq914cKFbleLvsjpdMrpdHbb7nA4eu2NErgZoUDnwCk6/fEfTG/+/Qwm5Bge5Bge5BgegzXHnpxzr/8cnUAgoBMnTiglJUWjR4+W2+0OudTW0dGhgwcP2iUmMzNTDocjZKa5uVlNTU32TE5Ojvx+vw4dOmTP1NfXy+/32zMAAABhv6JTXFysuXPnatSoUWptbdUvf/lLtbe3a8GCBYqIiNDKlSu1bt06jRkzRmPGjNG6des0fPhwFRQUSJJcLpcWLVqkoqIijRgxQgkJCSouLtb48ePtu7DGjh2rWbNmqbCwUFu3bpUkLV68WHl5edxxBQAAbGEvOufOndOPf/xj/e1vf9NXv/pVZWdnq66uTmlpaZKkZ555Rjdu3NDSpUvV1tamrKwsVVZWKjY21j7Gpk2bNHToUM2fP183btzQ9OnTtWPHDkVGRtozu3bt0ooVK+y7s/Lz87V58+Zwnw4AABjAwl50ysvL77o/IiJCJSUlKikpuePMsGHDVFpaqtLS0jvOJCQkqKys7EGXCQAABgF+1xUAADAWRQcAABiLogMAAIxF0QEAAMai6AAAAGNRdAAAgLEoOgAAwFgUHQAAYCyKDgAAMBZFBwAAGIuiAwAAjEXRAQAAxqLoAAAAY1F0AACAsSg6AADAWBQdAABgLIoOAAAwFkUHAAAYi6IDAACMRdEBAADGougAAABjUXQAAICxKDoAAMBYFB0AAGAsig4AADAWRQcAABiLogMAAIxF0QEAAMai6AAAAGNRdAAAgLEoOgAAwFgUHQAAYCyKDgAAMBZFBwAAGIuiAwAAjEXRAQAAxqLoAAAAY1F0AACAsQZ80Xnttdc0evRoDRs2TJmZmfrjH//Y10sCAAD9xIAuOm+//bZWrlyp5557Th999JG++93vavbs2Tpz5kxfLw0AAPQDA7rovPLKK1q0aJH+9V//VWPHjtWrr76q1NRUbdmypa+XBgAA+oGhfb2AB9XR0aGGhgb97Gc/C9nu9XpVU1Nz2+cEAgEFAgH7sd/vlyRdunRJwWAwrOsLBoO6fv26hgaHqPNmRFiP3ZsuXrzY10uwdWV48eJFORyOvl7OgEWO4UGO4UGO4THYc7xy5YokybKse84O2KLzt7/9TZ2dnUpOTg7ZnpycrJaWlts+Z/369VqzZk237aNHj+6VNQ5EiRv7egUAANyfK1euyOVy3XVmwBadLhERoVdLLMvqtq3L6tWrtWrVKvvxzZs3denSJY0YMeKOz3lQ7e3tSk1N1dmzZxUXFxfWYw8WZBge5Bge5Bge5Bgegz1Hy7J05coVeTyee84O2KKTmJioyMjIbldvWltbu13l6eJ0OuV0OkO2PfLII721RElSXFzcoHwThhMZhgc5hgc5hgc5hsdgzvFeV3K6DNhvRo6KilJmZqaqqqpCtldVVWnixIl9tCoAANCfDNgrOpK0atUq+Xw+TZgwQTk5Ofrv//5vnTlzRj/96U/7emkAAKAfGNBF56mnntLFixf185//XM3NzcrIyNC+ffuUlpbW10uT0+nUCy+80O2jMtw/MgwPcgwPcgwPcgwPcrx/Edb93JsFAAAwAA3Y79EBAAC4F4oOAAAwFkUHAAAYi6IDAACMRdHpBa+99ppGjx6tYcOGKTMzU3/84x/7eklfipKSEkVERIR8ud1ue79lWSopKZHH41F0dLSmTJmiY8eOhRwjEAho+fLlSkxMVExMjPLz83Xu3LmQmba2Nvl8PrlcLrlcLvl8Pl2+fDlk5syZM5o7d65iYmKUmJioFStWqKOjo9fO/WF88MEHmjt3rjwejyIiIvSb3/wmZH9/y+3o0aOaPHmyoqOj9bWvfU0///nP7+v3zfS2e+W4cOHCbu/P7OzskJnBnuP69ev1rW99S7GxsUpKStKTTz6pkydPhszwfry3+8mR9+OXyEJYlZeXWw6Hw9q2bZt1/Phx69///d+tmJgY69NPP+3rpfW6F154wfrmN79pNTc321+tra32/hdffNGKjY21du/ebR09etR66qmnrJSUFKu9vd2e+elPf2p97Wtfs6qqqqwPP/zQmjp1qvX4449bn3/+uT0za9YsKyMjw6qpqbFqamqsjIwMKy8vz97/+eefWxkZGdbUqVOtDz/80KqqqrI8Ho+1bNmyLyeIHtq3b5/13HPPWbt377YkWXv27AnZ359y8/v9VnJysvWjH/3IOnr0qLV7924rNjbW2rBhQ+8FdJ/uleOCBQusWbNmhbw/L168GDIz2HPMzc21Xn/9daupqclqbGy05syZY40aNcq6evWqPcP78d7uJ0fej18eik6Yffvb37Z++tOfhmz7p3/6J+tnP/tZH63oy/PCCy9Yjz/++G333bx503K73daLL75ob/vss88sl8tl/dd//ZdlWZZ1+fJly+FwWOXl5fbMX/7yF2vIkCFWRUWFZVmWdfz4cUuSVVdXZ8/U1tZakqz/+7//syzr7//BGzJkiPWXv/zFnvmf//kfy+l0Wn6/P2zn2xtu/Q90f8vttddes1wul/XZZ5/ZM+vXr7c8Ho918+bNMCbxcO5UdJ544ok7Poccu2ttbbUkWQcPHrQsi/fjg7o1R8vi/fhl4qOrMOro6FBDQ4O8Xm/Idq/Xq5qamj5a1Zfr1KlT8ng8Gj16tH70ox/pz3/+syTp9OnTamlpCcnG6XRq8uTJdjYNDQ0KBoMhMx6PRxkZGfZMbW2tXC6XsrKy7Jns7Gy5XK6QmYyMjJBf9pabm6tAIKCGhobeO/le0N9yq62t1eTJk0N+SFlubq7++te/6pNPPgl/AGF24MABJSUl6dFHH1VhYaFaW1vtfeTYnd/vlyQlJCRI4v34oG7NsQvvxy8HRSeM/va3v6mzs7PbLxVNTk7u9stHTZSVlaU333xT7733nrZt26aWlhZNnDhRFy9etM//btm0tLQoKipK8fHxd51JSkrq9tpJSUkhM7e+Tnx8vKKiogbc30N/y+12M12P+3u2s2fP1q5du/T+++9r48aNOnz4sKZNm6ZAICCJHG9lWZZWrVql73znO8rIyJDE+/FB3C5Hiffjl2lA/wqI/ioiIiLksWVZ3baZaPbs2fafx48fr5ycHH3961/XG2+8YX+T3YNkc+vM7eYfZGYg6U+53W4td3puf/LUU0/Zf87IyNCECROUlpamvXv3at68eXd83mDNcdmyZfr4449VXV3dbR/vx/t3pxx5P355uKITRomJiYqMjOzWgFtbW7u15cEgJiZG48eP16lTp+y7r+6WjdvtVkdHh9ra2u46c/78+W6vdeHChZCZW1+nra1NwWBwwP099LfcbjfTdbl9oGWbkpKitLQ0nTp1ShI5ftHy5cv1u9/9Tn/4wx80cuRIezvvx565U463w/ux91B0wigqKkqZmZmqqqoK2V5VVaWJEyf20ar6TiAQ0IkTJ5SSkqLRo0fL7XaHZNPR0aGDBw/a2WRmZsrhcITMNDc3q6mpyZ7JycmR3+/XoUOH7Jn6+nr5/f6QmaamJjU3N9szlZWVcjqdyszM7NVzDrf+lltOTo4++OCDkFtTKysr5fF49A//8A/hD6AXXbx4UWfPnlVKSookcpT+/n/xy5Yt0zvvvKP3339fo0ePDtnP+/H+3CvH2+H92Iu+pG96HjS6bi/fvn27dfz4cWvlypVWTEyM9cknn/T10npdUVGRdeDAAevPf/6zVVdXZ+Xl5VmxsbH2ub/44ouWy+Wy3nnnHevo0aPWj3/849veljpy5Ehr//791ocffmhNmzbttrdTPvbYY1Ztba1VW1trjR8//ra3U06fPt368MMPrf3791sjR47st7eXX7lyxfroo4+sjz76yJJkvfLKK9ZHH31k/0iC/pTb5cuXreTkZOvHP/6xdfToUeudd96x4uLi+sVtqHfL8cqVK1ZRUZFVU1NjnT592vrDH/5g5eTkWF/72tfI8Qv+7d/+zXK5XNaBAwdCbnu+fv26PcP78d7ulSPvxy8XRacX/Od//qeVlpZmRUVFWf/yL/8Sckuhybp+nobD4bA8Ho81b94869ixY/b+mzdvWi+88ILldrstp9Npfe9737OOHj0acowbN25Yy5YtsxISEqzo6GgrLy/POnPmTMjMxYsXrZ/85CdWbGysFRsba/3kJz+x2traQmY+/fRTa86cOVZ0dLSVkJBgLVu2LOTWyf7kD3/4gyWp29eCBQssy+p/uX388cfWd7/7XcvpdFput9sqKSnpF7eg3i3H69evW16v1/rqV79qORwOa9SoUdaCBQu6ZTTYc7xdfpKs119/3Z7h/Xhv98qR9+OXK8KyTPnRhwAAAKH4Hh0AAGAsig4AADAWRQcAABiLogMAAIxF0QEAAMai6AAAAGNRdAAAgLEoOgAAwFgUHQAAYCyKDgAAMBZFBwAAGIuiAwAAjPX/AWcZMehWVqQgAAAAAElFTkSuQmCC\n",
      "text/plain": [
       "<Figure size 640x480 with 1 Axes>"
      ]
     },
     "metadata": {},
     "output_type": "display_data"
    }
   ],
   "source": [
    "df['Déchets'].hist()"
   ]
  },
  {
   "cell_type": "code",
   "execution_count": null,
   "id": "d02fb5c4",
   "metadata": {},
   "outputs": [],
   "source": []
  }
 ],
 "metadata": {
  "kernelspec": {
   "display_name": "Python 3 (ipykernel)",
   "language": "python",
   "name": "python3"
  },
  "language_info": {
   "codemirror_mode": {
    "name": "ipython",
    "version": 3
   },
   "file_extension": ".py",
   "mimetype": "text/x-python",
   "name": "python",
   "nbconvert_exporter": "python",
   "pygments_lexer": "ipython3",
   "version": "3.9.13"
  }
 },
 "nbformat": 4,
 "nbformat_minor": 5
}
